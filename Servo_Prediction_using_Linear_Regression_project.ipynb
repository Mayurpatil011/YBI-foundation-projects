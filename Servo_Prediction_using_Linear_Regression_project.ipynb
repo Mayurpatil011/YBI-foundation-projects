{
  "metadata": {
    "kernelspec": {
      "language": "python",
      "display_name": "Python 3",
      "name": "python3"
    },
    "language_info": {
      "pygments_lexer": "ipython3",
      "nbconvert_exporter": "python",
      "version": "3.6.4",
      "file_extension": ".py",
      "codemirror_mode": {
        "name": "ipython",
        "version": 3
      },
      "name": "python",
      "mimetype": "text/x-python"
    },
    "kaggle": {
      "accelerator": "none",
      "dataSources": [],
      "dockerImageVersionId": 30527,
      "isInternetEnabled": true,
      "language": "python",
      "sourceType": "notebook",
      "isGpuEnabled": false
    },
    "colab": {
      "provenance": []
    }
  },
  "nbformat_minor": 0,
  "nbformat": 4,
  "cells": [
    {
      "cell_type": "markdown",
      "source": [
        "## Title - Servo Prediction using Regression Model"
      ],
      "metadata": {
        "id": "vpnZi5jDDxCl"
      }
    },
    {
      "cell_type": "markdown",
      "source": [
        "A Servo Prediction model, also known as a servo control or servo system, is a control system that uses feedback to accurately position or control the motion of a mechanical device, such as a motor or an actuator. The goal of a servo system is to maintain a desired position or trajectory by continuously monitoring the actual position and making adjustments as needed.\n",
        "\n",
        "In Python, you can develop a servo prediction model using various libraries and techniques."
      ],
      "metadata": {
        "id": "e8szvvH0ECVO"
      }
    },
    {
      "cell_type": "markdown",
      "source": [
        "## Objective"
      ],
      "metadata": {
        "id": "rEn4IygEEDxu"
      }
    },
    {
      "cell_type": "markdown",
      "source": [
        "Objective of Servo prediction model is to predict Class of a vehicle based on its Motor, Screw, Pgain & Vgain."
      ],
      "metadata": {
        "id": "8GXJZWo4EI4M"
      }
    },
    {
      "cell_type": "markdown",
      "source": [
        "## Data Source"
      ],
      "metadata": {
        "id": "rfXDU8taEuBs"
      }
    },
    {
      "cell_type": "markdown",
      "source": [
        "The dataset was taken from Kaggle which provides various kinds of dataset for projects.\n",
        "\n",
        "Attributes in the dataset are -\n",
        "  1. Motor\n",
        "  2. Screw\n",
        "  3. Pgain\n",
        "  4. Vgain\n",
        "  5. Class"
      ],
      "metadata": {
        "id": "CwiCoA3HE9zr"
      }
    },
    {
      "cell_type": "markdown",
      "source": [
        "## Imort Library"
      ],
      "metadata": {
        "id": "W2oH5nQsEqXc"
      }
    },
    {
      "cell_type": "code",
      "source": [
        "import pandas as pd\n",
        "import numpy as np\n",
        "import matplotlib.pyplot as plt\n",
        "import seaborn as sns"
      ],
      "metadata": {
        "id": "hMB2ygBE972p",
        "execution": {
          "iopub.status.busy": "2023-07-14T15:18:28.116725Z",
          "iopub.execute_input": "2023-07-14T15:18:28.11761Z",
          "iopub.status.idle": "2023-07-14T15:18:29.723517Z",
          "shell.execute_reply.started": "2023-07-14T15:18:28.117569Z",
          "shell.execute_reply": "2023-07-14T15:18:29.722506Z"
        },
        "trusted": true
      },
      "execution_count": null,
      "outputs": []
    },
    {
      "cell_type": "markdown",
      "source": [
        "## Import Data"
      ],
      "metadata": {
        "id": "o724wgQ1FEqc"
      }
    },
    {
      "cell_type": "code",
      "source": [
        "df = pd.read_csv(\"https://github.com/YBI-Foundation/Dataset/raw/main/Servo%20Mechanism.csv\")"
      ],
      "metadata": {
        "id": "Oy9tcfA2FG2H",
        "execution": {
          "iopub.status.busy": "2023-07-14T15:18:29.725471Z",
          "iopub.execute_input": "2023-07-14T15:18:29.726209Z",
          "iopub.status.idle": "2023-07-14T15:18:30.800519Z",
          "shell.execute_reply.started": "2023-07-14T15:18:29.726168Z",
          "shell.execute_reply": "2023-07-14T15:18:30.799038Z"
        },
        "trusted": true
      },
      "execution_count": null,
      "outputs": []
    },
    {
      "cell_type": "code",
      "source": [
        "df.head()"
      ],
      "metadata": {
        "id": "MNwWrAoKFgnb",
        "execution": {
          "iopub.status.busy": "2023-07-14T15:18:30.802992Z",
          "iopub.execute_input": "2023-07-14T15:18:30.8042Z",
          "iopub.status.idle": "2023-07-14T15:18:30.842376Z",
          "shell.execute_reply.started": "2023-07-14T15:18:30.804141Z",
          "shell.execute_reply": "2023-07-14T15:18:30.839468Z"
        },
        "trusted": true
      },
      "execution_count": null,
      "outputs": []
    },
    {
      "cell_type": "markdown",
      "source": [
        "## Describe Data"
      ],
      "metadata": {
        "id": "-cHduo4OF_yd"
      }
    },
    {
      "cell_type": "code",
      "source": [
        "df.describe()"
      ],
      "metadata": {
        "id": "qCMlKZHiFhzT",
        "execution": {
          "iopub.status.busy": "2023-07-14T15:18:30.849338Z",
          "iopub.execute_input": "2023-07-14T15:18:30.850329Z",
          "iopub.status.idle": "2023-07-14T15:18:30.884648Z",
          "shell.execute_reply.started": "2023-07-14T15:18:30.850275Z",
          "shell.execute_reply": "2023-07-14T15:18:30.883456Z"
        },
        "trusted": true
      },
      "execution_count": null,
      "outputs": []
    },
    {
      "cell_type": "code",
      "source": [
        "df.info()"
      ],
      "metadata": {
        "id": "tA4IN12TGEKT",
        "execution": {
          "iopub.status.busy": "2023-07-14T15:18:30.886579Z",
          "iopub.execute_input": "2023-07-14T15:18:30.886997Z",
          "iopub.status.idle": "2023-07-14T15:18:30.926437Z",
          "shell.execute_reply.started": "2023-07-14T15:18:30.886958Z",
          "shell.execute_reply": "2023-07-14T15:18:30.925187Z"
        },
        "trusted": true
      },
      "execution_count": null,
      "outputs": []
    },
    {
      "cell_type": "code",
      "source": [
        "df.nunique()"
      ],
      "metadata": {
        "id": "6j4Ij97hGGpT",
        "execution": {
          "iopub.status.busy": "2023-07-14T15:18:30.928219Z",
          "iopub.execute_input": "2023-07-14T15:18:30.929782Z",
          "iopub.status.idle": "2023-07-14T15:18:30.950671Z",
          "shell.execute_reply.started": "2023-07-14T15:18:30.929732Z",
          "shell.execute_reply": "2023-07-14T15:18:30.948501Z"
        },
        "trusted": true
      },
      "execution_count": null,
      "outputs": []
    },
    {
      "cell_type": "code",
      "source": [
        "df.columns"
      ],
      "metadata": {
        "id": "ttpaoLzbGLTf",
        "execution": {
          "iopub.status.busy": "2023-07-14T15:18:30.952092Z",
          "iopub.execute_input": "2023-07-14T15:18:30.952975Z",
          "iopub.status.idle": "2023-07-14T15:18:30.959189Z",
          "shell.execute_reply.started": "2023-07-14T15:18:30.952938Z",
          "shell.execute_reply": "2023-07-14T15:18:30.958314Z"
        },
        "trusted": true
      },
      "execution_count": null,
      "outputs": []
    },
    {
      "cell_type": "markdown",
      "source": [
        "## Data Visualization"
      ],
      "metadata": {
        "id": "shsVQaT7GQ7m"
      }
    },
    {
      "cell_type": "code",
      "source": [
        "sns.pairplot(df, x_vars = ['Motor', 'Screw', 'Pgain', 'Vgain', 'Class'], y_vars = ['Class'])"
      ],
      "metadata": {
        "id": "G7TsrbrXGUSF",
        "execution": {
          "iopub.status.busy": "2023-07-14T15:18:30.960506Z",
          "iopub.execute_input": "2023-07-14T15:18:30.961221Z",
          "iopub.status.idle": "2023-07-14T15:18:32.300014Z",
          "shell.execute_reply.started": "2023-07-14T15:18:30.961189Z",
          "shell.execute_reply": "2023-07-14T15:18:32.298927Z"
        },
        "trusted": true
      },
      "execution_count": null,
      "outputs": []
    },
    {
      "cell_type": "code",
      "source": [
        "sns.regplot(x = 'Pgain' , y = 'Class' , data = df)"
      ],
      "metadata": {
        "id": "sJUchiPlHpas",
        "execution": {
          "iopub.status.busy": "2023-07-14T15:18:32.301208Z",
          "iopub.execute_input": "2023-07-14T15:18:32.301573Z",
          "iopub.status.idle": "2023-07-14T15:18:32.687262Z",
          "shell.execute_reply.started": "2023-07-14T15:18:32.301536Z",
          "shell.execute_reply": "2023-07-14T15:18:32.686237Z"
        },
        "trusted": true
      },
      "execution_count": null,
      "outputs": []
    },
    {
      "cell_type": "markdown",
      "source": [
        "## Data Preprocessing"
      ],
      "metadata": {
        "id": "c4zQg4SsHo6L"
      }
    },
    {
      "cell_type": "code",
      "source": [
        "df.corr()"
      ],
      "metadata": {
        "id": "3J4_bTG6gGFA",
        "execution": {
          "iopub.status.busy": "2023-07-14T15:18:32.691373Z",
          "iopub.execute_input": "2023-07-14T15:18:32.691712Z",
          "iopub.status.idle": "2023-07-14T15:18:32.706307Z",
          "shell.execute_reply.started": "2023-07-14T15:18:32.691682Z",
          "shell.execute_reply": "2023-07-14T15:18:32.705261Z"
        },
        "trusted": true
      },
      "execution_count": null,
      "outputs": []
    },
    {
      "cell_type": "markdown",
      "source": [
        "Remove Missing Values"
      ],
      "metadata": {
        "id": "jlp8Ll7ogp9R"
      }
    },
    {
      "cell_type": "code",
      "source": [
        "df = df.dropna()"
      ],
      "metadata": {
        "id": "jFXyaaRygtct",
        "execution": {
          "iopub.status.busy": "2023-07-14T15:18:32.707754Z",
          "iopub.execute_input": "2023-07-14T15:18:32.708439Z",
          "iopub.status.idle": "2023-07-14T15:18:32.720354Z",
          "shell.execute_reply.started": "2023-07-14T15:18:32.708398Z",
          "shell.execute_reply": "2023-07-14T15:18:32.719448Z"
        },
        "trusted": true
      },
      "execution_count": null,
      "outputs": []
    },
    {
      "cell_type": "code",
      "source": [
        "df.info()"
      ],
      "metadata": {
        "id": "V2EQT33OgxMr",
        "execution": {
          "iopub.status.busy": "2023-07-14T15:18:32.721768Z",
          "iopub.execute_input": "2023-07-14T15:18:32.72209Z",
          "iopub.status.idle": "2023-07-14T15:18:32.746205Z",
          "shell.execute_reply.started": "2023-07-14T15:18:32.72206Z",
          "shell.execute_reply": "2023-07-14T15:18:32.745044Z"
        },
        "trusted": true
      },
      "execution_count": null,
      "outputs": []
    },
    {
      "cell_type": "markdown",
      "source": [
        "Encoding of Categorical Features"
      ],
      "metadata": {
        "id": "NKoxZ0Oj5u65"
      }
    },
    {
      "cell_type": "code",
      "source": [
        "df.replace({'Motor' : {'A' : 0 , 'B' :1, 'C' : 2, 'D' : 3, 'E': 4}}, inplace = True)"
      ],
      "metadata": {
        "id": "qKyeOdps50rw",
        "execution": {
          "iopub.status.busy": "2023-07-14T15:18:32.747667Z",
          "iopub.execute_input": "2023-07-14T15:18:32.748767Z",
          "iopub.status.idle": "2023-07-14T15:18:32.763364Z",
          "shell.execute_reply.started": "2023-07-14T15:18:32.748722Z",
          "shell.execute_reply": "2023-07-14T15:18:32.762106Z"
        },
        "trusted": true
      },
      "execution_count": null,
      "outputs": []
    },
    {
      "cell_type": "code",
      "source": [
        "df.replace({'Screw' : {'A' : 0 , 'B' :1, 'C' : 2, 'D' : 3, 'E': 4}}, inplace = True)"
      ],
      "metadata": {
        "id": "m62Yin286j7W",
        "execution": {
          "iopub.status.busy": "2023-07-14T15:18:32.764519Z",
          "iopub.execute_input": "2023-07-14T15:18:32.765276Z",
          "iopub.status.idle": "2023-07-14T15:18:32.779738Z",
          "shell.execute_reply.started": "2023-07-14T15:18:32.765222Z",
          "shell.execute_reply": "2023-07-14T15:18:32.77866Z"
        },
        "trusted": true
      },
      "execution_count": null,
      "outputs": []
    },
    {
      "cell_type": "markdown",
      "source": [
        "## Define Target variable (y) & Feature variable (x)"
      ],
      "metadata": {
        "id": "olOh-TJQ1kZ7"
      }
    },
    {
      "cell_type": "code",
      "source": [
        "y = df['Class']\n",
        "y.shape"
      ],
      "metadata": {
        "id": "Vc8BEc2mgx0i",
        "execution": {
          "iopub.status.busy": "2023-07-14T15:18:32.781211Z",
          "iopub.execute_input": "2023-07-14T15:18:32.78155Z",
          "iopub.status.idle": "2023-07-14T15:18:32.801362Z",
          "shell.execute_reply.started": "2023-07-14T15:18:32.781522Z",
          "shell.execute_reply": "2023-07-14T15:18:32.800201Z"
        },
        "trusted": true
      },
      "execution_count": null,
      "outputs": []
    },
    {
      "cell_type": "code",
      "source": [
        "x = df[['Motor', 'Screw', 'Pgain', 'Vgain']]\n",
        "x.shape"
      ],
      "metadata": {
        "id": "CrwAKmf917oa",
        "execution": {
          "iopub.status.busy": "2023-07-14T15:18:32.803074Z",
          "iopub.execute_input": "2023-07-14T15:18:32.803516Z",
          "iopub.status.idle": "2023-07-14T15:18:32.818015Z",
          "shell.execute_reply.started": "2023-07-14T15:18:32.803476Z",
          "shell.execute_reply": "2023-07-14T15:18:32.816938Z"
        },
        "trusted": true
      },
      "execution_count": null,
      "outputs": []
    },
    {
      "cell_type": "code",
      "source": [
        "x"
      ],
      "metadata": {
        "id": "6BKWeD1P2UmN",
        "execution": {
          "iopub.status.busy": "2023-07-14T15:18:32.819804Z",
          "iopub.execute_input": "2023-07-14T15:18:32.820538Z",
          "iopub.status.idle": "2023-07-14T15:18:32.846354Z",
          "shell.execute_reply.started": "2023-07-14T15:18:32.82049Z",
          "shell.execute_reply": "2023-07-14T15:18:32.844921Z"
        },
        "trusted": true
      },
      "execution_count": null,
      "outputs": []
    },
    {
      "cell_type": "markdown",
      "source": [
        "## Train Test Split"
      ],
      "metadata": {
        "id": "c-zsCpCA2Xnl"
      }
    },
    {
      "cell_type": "code",
      "source": [
        "from sklearn.model_selection import train_test_split"
      ],
      "metadata": {
        "id": "0B4saOSp2Vmc",
        "execution": {
          "iopub.status.busy": "2023-07-14T15:18:32.848351Z",
          "iopub.execute_input": "2023-07-14T15:18:32.849132Z",
          "iopub.status.idle": "2023-07-14T15:18:33.096539Z",
          "shell.execute_reply.started": "2023-07-14T15:18:32.849084Z",
          "shell.execute_reply": "2023-07-14T15:18:33.095319Z"
        },
        "trusted": true
      },
      "execution_count": null,
      "outputs": []
    },
    {
      "cell_type": "code",
      "source": [
        "x_train, x_test, y_train , y_test = train_test_split(x, y, train_size = 0.7 , random_state = 2529)"
      ],
      "metadata": {
        "id": "rI7FfUT12dO8",
        "execution": {
          "iopub.status.busy": "2023-07-14T15:18:33.099175Z",
          "iopub.execute_input": "2023-07-14T15:18:33.099544Z",
          "iopub.status.idle": "2023-07-14T15:18:33.106159Z",
          "shell.execute_reply.started": "2023-07-14T15:18:33.099513Z",
          "shell.execute_reply": "2023-07-14T15:18:33.105366Z"
        },
        "trusted": true
      },
      "execution_count": null,
      "outputs": []
    },
    {
      "cell_type": "code",
      "source": [
        "x_train.shape, x_test.shape, y_train.shape, y_test.shape"
      ],
      "metadata": {
        "id": "Xq3dcDz42m-v",
        "execution": {
          "iopub.status.busy": "2023-07-14T15:18:33.107462Z",
          "iopub.execute_input": "2023-07-14T15:18:33.108333Z",
          "iopub.status.idle": "2023-07-14T15:18:33.120705Z",
          "shell.execute_reply.started": "2023-07-14T15:18:33.108303Z",
          "shell.execute_reply": "2023-07-14T15:18:33.119935Z"
        },
        "trusted": true
      },
      "execution_count": null,
      "outputs": []
    },
    {
      "cell_type": "markdown",
      "source": [
        "## Modelling"
      ],
      "metadata": {
        "id": "NfHJmS2b2g4C"
      }
    },
    {
      "cell_type": "markdown",
      "source": [
        "Linear Regression Model"
      ],
      "metadata": {
        "id": "z6VywTrU2r8g"
      }
    },
    {
      "cell_type": "code",
      "source": [
        "from sklearn.linear_model import LinearRegression\n",
        "lr = LinearRegression()"
      ],
      "metadata": {
        "id": "li8vmM922woO",
        "execution": {
          "iopub.status.busy": "2023-07-14T15:18:33.12202Z",
          "iopub.execute_input": "2023-07-14T15:18:33.122596Z",
          "iopub.status.idle": "2023-07-14T15:18:33.255423Z",
          "shell.execute_reply.started": "2023-07-14T15:18:33.122563Z",
          "shell.execute_reply": "2023-07-14T15:18:33.254159Z"
        },
        "trusted": true
      },
      "execution_count": null,
      "outputs": []
    },
    {
      "cell_type": "code",
      "source": [
        "lr.fit(x_train, y_train)"
      ],
      "metadata": {
        "id": "LqH897_T2yGP",
        "execution": {
          "iopub.status.busy": "2023-07-14T15:18:33.257199Z",
          "iopub.execute_input": "2023-07-14T15:18:33.258044Z",
          "iopub.status.idle": "2023-07-14T15:18:33.293698Z",
          "shell.execute_reply.started": "2023-07-14T15:18:33.258011Z",
          "shell.execute_reply": "2023-07-14T15:18:33.292434Z"
        },
        "trusted": true
      },
      "execution_count": null,
      "outputs": []
    },
    {
      "cell_type": "code",
      "source": [
        "lr.intercept_"
      ],
      "metadata": {
        "id": "gagmXqoO20gz",
        "execution": {
          "iopub.status.busy": "2023-07-14T15:18:33.295518Z",
          "iopub.execute_input": "2023-07-14T15:18:33.295945Z",
          "iopub.status.idle": "2023-07-14T15:18:33.303072Z",
          "shell.execute_reply.started": "2023-07-14T15:18:33.295906Z",
          "shell.execute_reply": "2023-07-14T15:18:33.301812Z"
        },
        "trusted": true
      },
      "execution_count": null,
      "outputs": []
    },
    {
      "cell_type": "code",
      "source": [
        "lr.coef_"
      ],
      "metadata": {
        "id": "Cmpfeg9h643G",
        "execution": {
          "iopub.status.busy": "2023-07-14T15:18:33.304639Z",
          "iopub.execute_input": "2023-07-14T15:18:33.305419Z",
          "iopub.status.idle": "2023-07-14T15:18:33.317126Z",
          "shell.execute_reply.started": "2023-07-14T15:18:33.30538Z",
          "shell.execute_reply": "2023-07-14T15:18:33.316197Z"
        },
        "trusted": true
      },
      "execution_count": null,
      "outputs": []
    },
    {
      "cell_type": "markdown",
      "source": [
        "## Prediction\n"
      ],
      "metadata": {
        "id": "g2V3Q9YC7PzN"
      }
    },
    {
      "cell_type": "code",
      "source": [
        "y_pred = lr.predict(x_test)"
      ],
      "metadata": {
        "id": "MDFI-vqf7Vw0",
        "execution": {
          "iopub.status.busy": "2023-07-14T15:18:33.318726Z",
          "iopub.execute_input": "2023-07-14T15:18:33.319528Z",
          "iopub.status.idle": "2023-07-14T15:18:33.332089Z",
          "shell.execute_reply.started": "2023-07-14T15:18:33.319483Z",
          "shell.execute_reply": "2023-07-14T15:18:33.330821Z"
        },
        "trusted": true
      },
      "execution_count": null,
      "outputs": []
    },
    {
      "cell_type": "code",
      "source": [
        "y_pred"
      ],
      "metadata": {
        "id": "7zmUa2hL7aPu",
        "execution": {
          "iopub.status.busy": "2023-07-14T15:18:33.334182Z",
          "iopub.execute_input": "2023-07-14T15:18:33.335427Z",
          "iopub.status.idle": "2023-07-14T15:18:33.348669Z",
          "shell.execute_reply.started": "2023-07-14T15:18:33.335378Z",
          "shell.execute_reply": "2023-07-14T15:18:33.347311Z"
        },
        "trusted": true
      },
      "execution_count": null,
      "outputs": []
    },
    {
      "cell_type": "markdown",
      "source": [
        "## Model Evaluation"
      ],
      "metadata": {
        "id": "2yRVLPgC7dgj"
      }
    },
    {
      "cell_type": "code",
      "source": [
        "from sklearn.metrics import mean_squared_error, mean_absolute_error , mean_absolute_percentage_error"
      ],
      "metadata": {
        "id": "urjiKNQJ7lMl",
        "execution": {
          "iopub.status.busy": "2023-07-14T15:18:33.350315Z",
          "iopub.execute_input": "2023-07-14T15:18:33.350873Z",
          "iopub.status.idle": "2023-07-14T15:18:33.360146Z",
          "shell.execute_reply.started": "2023-07-14T15:18:33.35084Z",
          "shell.execute_reply": "2023-07-14T15:18:33.359316Z"
        },
        "trusted": true
      },
      "execution_count": null,
      "outputs": []
    },
    {
      "cell_type": "code",
      "source": [
        "mean_squared_error(y_test, y_pred)"
      ],
      "metadata": {
        "id": "DqbDeX0J7noQ",
        "execution": {
          "iopub.status.busy": "2023-07-14T15:18:33.364311Z",
          "iopub.execute_input": "2023-07-14T15:18:33.364901Z",
          "iopub.status.idle": "2023-07-14T15:18:33.378141Z",
          "shell.execute_reply.started": "2023-07-14T15:18:33.364868Z",
          "shell.execute_reply": "2023-07-14T15:18:33.376901Z"
        },
        "trusted": true
      },
      "execution_count": null,
      "outputs": []
    },
    {
      "cell_type": "code",
      "source": [
        "mean_absolute_error(y_test, y_pred)"
      ],
      "metadata": {
        "id": "H63CdQtL7pgI",
        "execution": {
          "iopub.status.busy": "2023-07-14T15:18:33.379565Z",
          "iopub.execute_input": "2023-07-14T15:18:33.380524Z",
          "iopub.status.idle": "2023-07-14T15:18:33.391763Z",
          "shell.execute_reply.started": "2023-07-14T15:18:33.380485Z",
          "shell.execute_reply": "2023-07-14T15:18:33.390606Z"
        },
        "trusted": true
      },
      "execution_count": null,
      "outputs": []
    },
    {
      "cell_type": "code",
      "source": [
        "mean_absolute_percentage_error(y_test, y_pred)"
      ],
      "metadata": {
        "id": "w1flQe0-7rr_",
        "execution": {
          "iopub.status.busy": "2023-07-14T15:18:33.393263Z",
          "iopub.execute_input": "2023-07-14T15:18:33.393916Z",
          "iopub.status.idle": "2023-07-14T15:18:33.405842Z",
          "shell.execute_reply.started": "2023-07-14T15:18:33.393883Z",
          "shell.execute_reply": "2023-07-14T15:18:33.404982Z"
        },
        "trusted": true
      },
      "execution_count": null,
      "outputs": []
    },
    {
      "cell_type": "markdown",
      "source": [
        "## Explaination"
      ],
      "metadata": {
        "id": "q1q4xbYn7wAS"
      }
    },
    {
      "cell_type": "markdown",
      "source": [
        "The Servo Prediction model is a control system that accurately positions or controls the motion of a mechanical device, such as a motor or actuator. It uses feedback to maintain a desired position or trajectory.\n",
        "\n",
        "Python offers several libraries for building servo prediction models, including TensorFlow, Keras, PyTorch, and scikit-learn. These libraries provide the necessary tools and functions for data preprocessing, model training, and evaluation.\n",
        "\n",
        "Building an accurate servo prediction model may involve an iterative process of collecting data, training the model, and evaluating its performance to refine and improve it."
      ],
      "metadata": {
        "id": "mzGAWzno7y1N"
      }
    }
  ]
}